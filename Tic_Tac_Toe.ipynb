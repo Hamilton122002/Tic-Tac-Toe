{
  "nbformat": 4,
  "nbformat_minor": 0,
  "metadata": {
    "colab": {
      "provenance": []
    },
    "kernelspec": {
      "name": "python3",
      "display_name": "Python 3"
    },
    "language_info": {
      "name": "python"
    }
  },
  "cells": [
    {
      "cell_type": "code",
      "execution_count": 1,
      "metadata": {
        "id": "z_I2J7sAYdcd"
      },
      "outputs": [],
      "source": [
        "def player_input():\n",
        "    marker = \"\"\n",
        "    while not (marker =='X' or marker =='O'):\n",
        "        marker = input('Player 1: Do you want to be X or O ?').upper()\n",
        "        \n",
        "    if marker == 'X':\n",
        "        return('X','O')\n",
        "    else:\n",
        "        return('O','X')"
      ]
    },
    {
      "cell_type": "code",
      "source": [
        "import random\n",
        "\n",
        "def choose_first():\n",
        "    if random.randint(0,1) == 0:\n",
        "        return 'Player 2'\n",
        "    else:\n",
        "        return 'Player 1'"
      ],
      "metadata": {
        "id": "5JbQlhjDYj-J"
      },
      "execution_count": 2,
      "outputs": []
    },
    {
      "cell_type": "code",
      "source": [
        "def player_choice(board):\n",
        "    position = 0\n",
        "    \n",
        "    while position not in [1,2,3,4,5,6,7,8,9] or not space_check(board , position):\n",
        "        position = int(input(\"Choose your next position(1-9)\"))\n",
        "        \n",
        "    return position"
      ],
      "metadata": {
        "id": "iI0yOblRYoUh"
      },
      "execution_count": 3,
      "outputs": []
    },
    {
      "cell_type": "code",
      "source": [
        "from IPython.display import clear_output\n",
        "\n",
        "def display_board(t):\n",
        "    clear_output()\n",
        "    print(t[7] + \"|\" + t[8] + \"|\" + t[9])\n",
        "    print(\"------\")\n",
        "    print(t[4] + \"|\" + t[5] + \"|\" + t[6])\n",
        "    print(\"------\")\n",
        "    print(t[1] + \"|\" + t[2] + \"|\" + t[3])"
      ],
      "metadata": {
        "id": "3r0Pb8QzYzla"
      },
      "execution_count": 4,
      "outputs": []
    },
    {
      "cell_type": "code",
      "source": [
        "def space_check(board , position):\n",
        "    return board[position] == ' '"
      ],
      "metadata": {
        "id": "SnWukYZGY2HC"
      },
      "execution_count": 5,
      "outputs": []
    },
    {
      "cell_type": "code",
      "source": [
        "def win_check(board ,mark):\n",
        "    return ((board[7] == mark and board[8] == mark and board[9] == mark) or #across the top\n",
        "            (board[4] == mark and board[5] == mark and board[6] == mark) or #across the middle\n",
        "            (board[1] == mark and board[2] == mark and board[3] == mark) or #across the bottom\n",
        "            (board[1] == mark and board[4] == mark and board[7] == mark) or #down the left\n",
        "            (board[2] == mark and board[5] == mark and board[8] == mark) or #down the middle\n",
        "            (board[3] == mark and board[6] == mark and board[9] == mark) or #down the right\n",
        "            (board[3] == mark and board[5] == mark and board[7] == mark) or #diagonal1\n",
        "            (board[1] == mark and board[5] == mark and board[9] == mark) )  #diagonal2"
      ],
      "metadata": {
        "id": "vnz0EsFaY69a"
      },
      "execution_count": 6,
      "outputs": []
    },
    {
      "cell_type": "code",
      "source": [
        "def full_board_check(board):\n",
        "    for i in range(1,10):\n",
        "        if space_check(board , i):\n",
        "            return False\n",
        "    return True"
      ],
      "metadata": {
        "id": "muEUsLP5Y7jz"
      },
      "execution_count": 7,
      "outputs": []
    },
    {
      "cell_type": "code",
      "source": [
        "def place_marker(board , marker , position):\n",
        "    board[position] = marker"
      ],
      "metadata": {
        "id": "hMJLmImcY_KP"
      },
      "execution_count": 8,
      "outputs": []
    },
    {
      "cell_type": "code",
      "source": [
        "def replay():\n",
        "    return input(\"Do you want to play again ? Enter Yes or No:\").lower().startswith('y')"
      ],
      "metadata": {
        "id": "_Azn4obbZBw-"
      },
      "execution_count": 9,
      "outputs": []
    },
    {
      "cell_type": "code",
      "source": [
        "print(\"Welcome to Tic Tac Toe!!\")\n",
        "\n",
        "while True:\n",
        "    #Reset the board\n",
        "    theBoard = [' ']*10\n",
        "    player1_marker , player2_marker = player_input()\n",
        "    turn = choose_first()\n",
        "    print(turn + \" will go first.\")\n",
        "    play_game = input(\"Are you ready to play? Enter Yes or No\")\n",
        "    \n",
        "    if play_game.lower()[0] == 'y':\n",
        "        game_on = True\n",
        "    else:\n",
        "        game_on = False\n",
        "        \n",
        "    while game_on:\n",
        "        if turn == 'Player 1':\n",
        "            #Player1's Turn\n",
        "            display_board(theBoard)\n",
        "            position = player_choice(theBoard)\n",
        "            place_marker(theBoard , player1_marker , position)\n",
        "            \n",
        "            if win_check(theBoard , player1_marker):\n",
        "                display_board(theBoard)\n",
        "                print(\"Player 1 won the game\")\n",
        "                game_on = False\n",
        "            else:\n",
        "                if full_board_check(theBoard):\n",
        "                    display_board(theBoard)\n",
        "                    print(\"The game is draw\")\n",
        "                    break\n",
        "                    \n",
        "                else:\n",
        "                    turn = 'Player 2'\n",
        "        else:\n",
        "            #Player2's Turn\n",
        "            display_board(theBoard)\n",
        "            position = player_choice(theBoard)\n",
        "            place_marker(theBoard , player2_marker , position)\n",
        "            \n",
        "            if win_check(theBoard , player2_marker):\n",
        "                display_board(theBoard)\n",
        "                print(\"Player 2 won the game\")\n",
        "                game_on = False\n",
        "            else:\n",
        "                if full_board_check(theBoard):\n",
        "                    display_board(theBoard)\n",
        "                    print(\"The game is draw\")\n",
        "                    break    \n",
        "                else:\n",
        "                    turn = 'Player 1'\n",
        "    if not replay():\n",
        "        break"
      ],
      "metadata": {
        "colab": {
          "base_uri": "https://localhost:8080/"
        },
        "id": "QkIR1yHrZEqB",
        "outputId": "f667dd36-43ec-4d5f-d876-fb3ff4d97fb8"
      },
      "execution_count": 10,
      "outputs": [
        {
          "name": "stdout",
          "output_type": "stream",
          "text": [
            "O|O|O\n",
            "------\n",
            "O|X|X\n",
            "------\n",
            "X|X|O\n",
            "Player 2 won the game\n",
            "Do you want to play again ? Enter Yes or No:No\n"
          ]
        }
      ]
    }
  ]
}